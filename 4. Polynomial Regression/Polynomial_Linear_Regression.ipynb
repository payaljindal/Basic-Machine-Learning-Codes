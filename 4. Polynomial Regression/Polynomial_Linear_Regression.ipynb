{
  "nbformat": 4,
  "nbformat_minor": 0,
  "metadata": {
    "colab": {
      "name": "Plynomial_Linear_Regression.ipynb",
      "provenance": []
    },
    "kernelspec": {
      "name": "python3",
      "display_name": "Python 3"
    }
  },
  "cells": [
    {
      "cell_type": "code",
      "metadata": {
        "id": "Yr9wiA-3xycB"
      },
      "source": [
        "import numpy as np\r\n",
        "import matplotlib.pyplot as plt\r\n",
        "import pandas as pd\r\n"
      ],
      "execution_count": 2,
      "outputs": []
    },
    {
      "cell_type": "code",
      "metadata": {
        "id": "FrWGt8Wjx8jr"
      },
      "source": [
        "dataset = pd.read_csv('Position_Salaries.csv')\r\n",
        "x = dataset.iloc[:,1:-1].values\r\n",
        "y = dataset.iloc[:,-1].values\r\n",
        "# print(x)"
      ],
      "execution_count": 5,
      "outputs": []
    },
    {
      "cell_type": "code",
      "metadata": {
        "colab": {
          "base_uri": "https://localhost:8080/"
        },
        "id": "GIJxCaPTz8GM",
        "outputId": "9c97da3f-0643-44aa-9b83-895899bee94d"
      },
      "source": [
        "# training linear model\r\n",
        "from sklearn.linear_model import LinearRegression\r\n",
        "regressor1 = LinearRegression()\r\n",
        "regressor1.fit(x,y)"
      ],
      "execution_count": 6,
      "outputs": [
        {
          "output_type": "execute_result",
          "data": {
            "text/plain": [
              "LinearRegression(copy_X=True, fit_intercept=True, n_jobs=None, normalize=False)"
            ]
          },
          "metadata": {
            "tags": []
          },
          "execution_count": 6
        }
      ]
    },
    {
      "cell_type": "code",
      "metadata": {
        "colab": {
          "base_uri": "https://localhost:8080/"
        },
        "id": "zO2-YGkU1Beg",
        "outputId": "aee3fe53-2229-45df-f54b-ac8b48443f52"
      },
      "source": [
        "# polynomial linear model\r\n",
        "from sklearn.preprocessing import PolynomialFeatures\r\n",
        "p_regressor = PolynomialFeatures(degree=5)\r\n",
        "x_poly = p_regressor.fit_transform(x)\r\n",
        "# print(x_poly)\r\n",
        "\r\n",
        "# now create linear model using x_poly\r\n",
        "regressor2 = LinearRegression()\r\n",
        "regressor2.fit(x_poly,y)\r\n"
      ],
      "execution_count": 19,
      "outputs": [
        {
          "output_type": "execute_result",
          "data": {
            "text/plain": [
              "LinearRegression(copy_X=True, fit_intercept=True, n_jobs=None, normalize=False)"
            ]
          },
          "metadata": {
            "tags": []
          },
          "execution_count": 19
        }
      ]
    },
    {
      "cell_type": "code",
      "metadata": {
        "colab": {
          "base_uri": "https://localhost:8080/",
          "height": 295
        },
        "id": "4k58aOQxKT1q",
        "outputId": "c4fb9407-989f-49c2-9dff-1e420518b071"
      },
      "source": [
        "# Visualising linear model\r\n",
        "plt.scatter(x,y,color='magenta')\r\n",
        "plt.plot(x,regressor1.predict(x))\r\n",
        "plt.title('Linear Regression model')\r\n",
        "plt.xlabel('Level')\r\n",
        "plt.ylabel('Salary')\r\n",
        "plt.show()"
      ],
      "execution_count": 8,
      "outputs": [
        {
          "output_type": "display_data",
          "data": {
            "image/png": "[encoded data removed]",
            "text/plain": [
              "<Figure size 432x288 with 1 Axes>"
            ]
          },
          "metadata": {
            "tags": [],
            "needs_background": "light"
          }
        }
      ]
    },
    {
      "cell_type": "code",
      "metadata": {
        "colab": {
          "base_uri": "https://localhost:8080/",
          "height": 295
        },
        "id": "6MzfxFGrK7eQ",
        "outputId": "2e9bb199-e422-4fad-c7f5-2715c03eb1f5"
      },
      "source": [
        "# Visualising plynomial linear model\r\n",
        "plt.scatter(x,y,color='magenta')\r\n",
        "plt.plot(x,regressor2.predict(p_regressor.fit_transform(x)))\r\n",
        "plt.title('Polynomial Linear Regression model')\r\n",
        "plt.xlabel('Level')\r\n",
        "plt.ylabel('Salary')\r\n",
        "plt.show()"
      ],
      "execution_count": 20,
      "outputs": [
        {
          "output_type": "display_data",
          "data": {
            "image/png": "[encoded data removed]",
            "text/plain": [
              "<Figure size 432x288 with 1 Axes>"
            ]
          },
          "metadata": {
            "tags": [],
            "needs_background": "light"
          }
        }
      ]
    },
    {
      "cell_type": "code",
      "metadata": {
        "colab": {
          "base_uri": "https://localhost:8080/",
          "height": 295
        },
        "id": "0YKgz02FyKNZ",
        "outputId": "feaa2c9c-bf6f-4538-cebe-1bee3ddfa2fa"
      },
      "source": [
        "# another way to plot a better graph\r\n",
        "x_grid = np.arange(min(x),max(x),0.1)\r\n",
        "x_grid = x_grid.reshape(len(x_grid),1)\r\n",
        "\r\n",
        "plt.scatter(x,y,color='magenta')\r\n",
        "plt.plot(x_grid,regressor2.predict(p_regressor.fit_transform(x_grid)))\r\n",
        "plt.title('Polynomial Linear Regression model')\r\n",
        "plt.xlabel('Level')\r\n",
        "plt.ylabel('Salary')\r\n",
        "plt.show()"
      ],
      "execution_count": 21,
      "outputs": [
        {
          "output_type": "display_data",
          "data": {
            "image/png": "[encoded data removed]",
            "text/plain": [
              "<Figure size 432x288 with 1 Axes>"
            ]
          },
          "metadata": {
            "tags": [],
            "needs_background": "light"
          }
        }
      ]
    },
    {
      "cell_type": "code",
      "metadata": {
        "colab": {
          "base_uri": "https://localhost:8080/"
        },
        "id": "WZCO2RHizBGG",
        "outputId": "93900a5b-abc1-4426-8c4f-87a21728c54b"
      },
      "source": [
        "# predicting single observation [polynomial regression]\r\n",
        "qus=[[6.5]]\r\n",
        "answer = regressor2.predict(p_regressor.fit_transform(qus))\r\n",
        "print(answer)"
      ],
      "execution_count": 23,
      "outputs": [
        {
          "output_type": "stream",
          "text": [
            "[174878.07765172]\n"
          ],
          "name": "stdout"
        }
      ]
    }
  ]
}