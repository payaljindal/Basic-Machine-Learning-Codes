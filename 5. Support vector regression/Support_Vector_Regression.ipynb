{
  "nbformat": 4,
  "nbformat_minor": 0,
  "metadata": {
    "colab": {
      "name": "Support_Vector_Regression.ipynb",
      "provenance": []
    },
    "kernelspec": {
      "name": "python3",
      "display_name": "Python 3"
    }
  },
  "cells": [
    {
      "cell_type": "code",
      "metadata": {
        "id": "xnF31-s4ZRSh"
      },
      "source": [
        "import numpy as np\r\n",
        "import matplotlib.pyplot as plt\r\n",
        "import pandas as pd"
      ],
      "execution_count": 29,
      "outputs": []
    },
    {
      "cell_type": "code",
      "metadata": {
        "id": "cXgdRJ7lZiDl"
      },
      "source": [
        "dataset = pd.read_csv('Position_Salaries.csv')\r\n",
        "x = dataset.iloc[:,1:-1].values\r\n",
        "y = dataset.iloc[:,-1].values"
      ],
      "execution_count": 30,
      "outputs": []
    },
    {
      "cell_type": "code",
      "metadata": {
        "colab": {
          "base_uri": "https://localhost:8080/"
        },
        "id": "7nlBOMxodula",
        "outputId": "a52dff7d-0f95-49d7-fdc2-0edc233af467"
      },
      "source": [
        "print(x)\r\n",
        "y=y.reshape(len(y),1)\r\n",
        "print(y)"
      ],
      "execution_count": 31,
      "outputs": [
        {
          "output_type": "stream",
          "text": [
            "[[ 1]\n",
            " [ 2]\n",
            " [ 3]\n",
            " [ 4]\n",
            " [ 5]\n",
            " [ 6]\n",
            " [ 7]\n",
            " [ 8]\n",
            " [ 9]\n",
            " [10]]\n",
            "[[  45000]\n",
            " [  50000]\n",
            " [  60000]\n",
            " [  80000]\n",
            " [ 110000]\n",
            " [ 150000]\n",
            " [ 200000]\n",
            " [ 300000]\n",
            " [ 500000]\n",
            " [1000000]]\n"
          ],
          "name": "stdout"
        }
      ]
    },
    {
      "cell_type": "code",
      "metadata": {
        "colab": {
          "base_uri": "https://localhost:8080/"
        },
        "id": "WCq4VsDIcNex",
        "outputId": "aef5a61d-831d-4d81-b50b-d3ba2877eecf"
      },
      "source": [
        "# we always have to feature scaling in SVR\r\n",
        "# reshape y bcoz feature scaling expects 2Darray\r\n",
        "from sklearn.preprocessing import StandardScaler\r\n",
        "sc_x = StandardScaler()\r\n",
        "sc_y = StandardScaler()\r\n",
        "x = sc_x.fit_transform(x)\r\n",
        "y = sc_y.fit_transform(y)\r\n",
        "print(x)\r\n",
        "print(y)"
      ],
      "execution_count": 32,
      "outputs": [
        {
          "output_type": "stream",
          "text": [
            "[[-1.5666989 ]\n",
            " [-1.21854359]\n",
            " [-0.87038828]\n",
            " [-0.52223297]\n",
            " [-0.17407766]\n",
            " [ 0.17407766]\n",
            " [ 0.52223297]\n",
            " [ 0.87038828]\n",
            " [ 1.21854359]\n",
            " [ 1.5666989 ]]\n",
            "[[-0.72004253]\n",
            " [-0.70243757]\n",
            " [-0.66722767]\n",
            " [-0.59680786]\n",
            " [-0.49117815]\n",
            " [-0.35033854]\n",
            " [-0.17428902]\n",
            " [ 0.17781001]\n",
            " [ 0.88200808]\n",
            " [ 2.64250325]]\n"
          ],
          "name": "stdout"
        }
      ]
    },
    {
      "cell_type": "code",
      "metadata": {
        "colab": {
          "base_uri": "https://localhost:8080/"
        },
        "id": "OuX0CTAwg5HL",
        "outputId": "4bb5180e-97f9-467e-c3af-eeae8183e803"
      },
      "source": [
        "# training model\r\n",
        "from sklearn.svm import SVR\r\n",
        "regressor = SVR(kernel = 'rbf') #rbf - radial basis function\r\n",
        "#many kernels but gaussian rbf is used mostly\r\n",
        "regressor.fit(x,y)\r\n",
        " \r\n"
      ],
      "execution_count": 33,
      "outputs": [
        {
          "output_type": "stream",
          "text": [
            "/usr/local/lib/python3.6/dist-packages/sklearn/utils/validation.py:760: DataConversionWarning: A column-vector y was passed when a 1d array was expected. Please change the shape of y to (n_samples, ), for example using ravel().\n",
            "  y = column_or_1d(y, warn=True)\n"
          ],
          "name": "stderr"
        },
        {
          "output_type": "execute_result",
          "data": {
            "text/plain": [
              "SVR(C=1.0, cache_size=200, coef0=0.0, degree=3, epsilon=0.1, gamma='scale',\n",
              "    kernel='rbf', max_iter=-1, shrinking=True, tol=0.001, verbose=False)"
            ]
          },
          "metadata": {
            "tags": []
          },
          "execution_count": 33
        }
      ]
    },
    {
      "cell_type": "code",
      "metadata": {
        "colab": {
          "base_uri": "https://localhost:8080/"
        },
        "id": "TeP_HH2tmq35",
        "outputId": "fd6d458f-3a0d-4a7a-94d6-85858cd84eea"
      },
      "source": [
        "# prediction\r\n",
        "ans = regressor.predict(sc_x.transform([[6.5]]))\r\n",
        "# now apply reverse scaling\r\n",
        "ans =sc_y.inverse_transform(ans)\r\n",
        "print(ans)"
      ],
      "execution_count": 34,
      "outputs": [
        {
          "output_type": "stream",
          "text": [
            "[170370.0204065]\n"
          ],
          "name": "stdout"
        }
      ]
    },
    {
      "cell_type": "code",
      "metadata": {
        "colab": {
          "base_uri": "https://localhost:8080/",
          "height": 295
        },
        "id": "tEq3P5uktTrs",
        "outputId": "37f2c3ff-a225-4592-deb5-9b19331091f7"
      },
      "source": [
        "# visualising\r\n",
        "plt.scatter(sc_x.inverse_transform(x),sc_y.inverse_transform(y),color='magenta')\r\n",
        "plt.plot(sc_x.inverse_transform(x),sc_y.inverse_transform(regressor.predict(x)))\r\n",
        "plt.title('Support Vector Regression')\r\n",
        "plt.xlabel('Level')\r\n",
        "plt.ylabel('Salary')\r\n",
        "plt.show()"
      ],
      "execution_count": 42,
      "outputs": [
        {
          "output_type": "display_data",
          "data": {
            "image/png": "[encoded data removed]",
            "text/plain": [
              "<Figure size 432x288 with 1 Axes>"
            ]
          },
          "metadata": {
            "tags": [],
            "needs_background": "light"
          }
        }
      ]
    },
    {
      "cell_type": "code",
      "metadata": {
        "colab": {
          "base_uri": "https://localhost:8080/",
          "height": 295
        },
        "id": "I9rcv0-yvgUT",
        "outputId": "bc52dff9-044f-47f3-9410-dd95a482b51a"
      },
      "source": [
        "# high resolution graph\r\n",
        "x_grid = np.arange(min(x),max(x),0.1)\r\n",
        "x_grid = x_grid.reshape(len(x_grid),1)\r\n",
        "\r\n",
        "plt.scatter(sc_x.inverse_transform(x),sc_y.inverse_transform(y),color='magenta')\r\n",
        "plt.plot(sc_x.inverse_transform(x_grid),sc_y.inverse_transform(regressor.predict(x_grid)))\r\n",
        "plt.title('Support Vector Regression')\r\n",
        "plt.xlabel('Level')\r\n",
        "plt.ylabel('Salary')\r\n",
        "plt.show()"
      ],
      "execution_count": 45,
      "outputs": [
        {
          "output_type": "display_data",
          "data": {
            "image/png": "[encoded data removed]",
            "text/plain": [
              "<Figure size 432x288 with 1 Axes>"
            ]
          },
          "metadata": {
            "tags": [],
            "needs_background": "light"
          }
        }
      ]
    }
  ]
}