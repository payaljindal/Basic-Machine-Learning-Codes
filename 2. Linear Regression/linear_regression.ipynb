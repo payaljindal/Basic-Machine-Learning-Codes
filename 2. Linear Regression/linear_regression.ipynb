{
  "nbformat": 4,
  "nbformat_minor": 0,
  "metadata": {
    "colab": {
      "name": "linear_regression.ipynb",
      "provenance": []
    },
    "kernelspec": {
      "name": "python3",
      "display_name": "Python 3"
    }
  },
  "cells": [
    {
      "cell_type": "code",
      "metadata": {
        "id": "0Q-ehQcqHBWy"
      },
      "source": [
        "import numpy as np\r\n",
        "import matplotlib.pyplot as plt\r\n",
        "import pandas as pd"
      ],
      "execution_count": 27,
      "outputs": []
    },
    {
      "cell_type": "code",
      "metadata": {
        "id": "YeFDsX83JhsY"
      },
      "source": [
        "dataset = pd.read_csv('Salary_Data.csv')\r\n",
        "x = dataset.iloc[:,:-1].values\r\n",
        "y = dataset.iloc[:,-1].values\r\n",
        "# print(x)\r\n",
        "# print(y)"
      ],
      "execution_count": 28,
      "outputs": []
    },
    {
      "cell_type": "code",
      "metadata": {
        "id": "fD3LglocKMBV"
      },
      "source": [
        "from sklearn.model_selection import train_test_split\r\n",
        "x_train,x_test,y_train,y_test = train_test_split(x,y,test_size=0.2,random_state=1)\r\n"
      ],
      "execution_count": 29,
      "outputs": []
    },
    {
      "cell_type": "code",
      "metadata": {
        "colab": {
          "base_uri": "https://localhost:8080/"
        },
        "id": "WNDQhz1OPjZa",
        "outputId": "7125a954-7462-4fba-d979-76672c432a50"
      },
      "source": [
        "# training model\r\n",
        "from sklearn.linear_model import LinearRegression\r\n",
        "regressor = LinearRegression()\r\n",
        "# fit is used to train the model\r\n",
        "regressor.fit(x_train,y_train)"
      ],
      "execution_count": 30,
      "outputs": [
        {
          "output_type": "execute_result",
          "data": {
            "text/plain": [
              "LinearRegression(copy_X=True, fit_intercept=True, n_jobs=None, normalize=False)"
            ]
          },
          "metadata": {
            "tags": []
          },
          "execution_count": 30
        }
      ]
    },
    {
      "cell_type": "code",
      "metadata": {
        "id": "GtZoRvOeRc5s"
      },
      "source": [
        "y_pred = regressor.predict(x_test)\r\n",
        "# print(y_pred)\r\n",
        "# print(y_test)"
      ],
      "execution_count": 31,
      "outputs": []
    },
    {
      "cell_type": "code",
      "metadata": {
        "colab": {
          "base_uri": "https://localhost:8080/",
          "height": 295
        },
        "id": "qvFo9t5CSPbx",
        "outputId": "05915478-a860-476c-f6d0-bbdfa7e230e1"
      },
      "source": [
        "# visualising training set results\r\n",
        "plt.scatter(x_train,y_train,color='magenta')\r\n",
        "plt.plot(x_train,regressor.predict(x_train))\r\n",
        "plt.title('Salary vs Experience graph[Training set]')\r\n",
        "plt.xlabel('Experience(in years)')\r\n",
        "plt.ylabel('Salary')\r\n",
        "plt.show()"
      ],
      "execution_count": 32,
      "outputs": [
        {
          "output_type": "display_data",
          "data": {
            "image/png": "[encoded data removed]",
            "text/plain": [
              "<Figure size 432x288 with 1 Axes>"
            ]
          },
          "metadata": {
            "tags": [],
            "needs_background": "light"
          }
        }
      ]
    },
    {
      "cell_type": "code",
      "metadata": {
        "colab": {
          "base_uri": "https://localhost:8080/",
          "height": 295
        },
        "id": "KDt8sj5VU1lE",
        "outputId": "016f2b0d-c7eb-4873-eb05-9f87d41a666c"
      },
      "source": [
        "# visualising test set results\r\n",
        "plt.scatter(x_test,y_test,color='magenta')\r\n",
        "plt.plot(x_train,regressor.predict(x_train))\r\n",
        "plt.title('Salary vs Experience graph[Training set]')\r\n",
        "plt.xlabel('Experience(in years)')\r\n",
        "plt.ylabel('Salary')\r\n",
        "plt.show()"
      ],
      "execution_count": 33,
      "outputs": [
        {
          "output_type": "display_data",
          "data": {
            "image/png": "[encoded data removed]",
            "text/plain": [
              "<Figure size 432x288 with 1 Axes>"
            ]
          },
          "metadata": {
            "tags": [],
            "needs_background": "light"
          }
        }
      ]
    },
    {
      "cell_type": "code",
      "metadata": {
        "colab": {
          "base_uri": "https://localhost:8080/"
        },
        "id": "S6lNHlhmVlkW",
        "outputId": "a769d238-9adb-4e66-91f8-4ee796035c99"
      },
      "source": [
        "# predict a certain value\r\n",
        "# predict always expects a 2D array\r\n",
        "x_value = [\r\n",
        "           [20]\r\n",
        "          ]\r\n",
        "value = regressor.predict(x_value)\r\n",
        "print(value)"
      ],
      "execution_count": 35,
      "outputs": [
        {
          "output_type": "stream",
          "text": [
            "[212268.79275821]\n"
          ],
          "name": "stdout"
        }
      ]
    },
    {
      "cell_type": "code",
      "metadata": {
        "colab": {
          "base_uri": "https://localhost:8080/"
        },
        "id": "fBpm2-G1WfAs",
        "outputId": "b9b93176-58fb-496f-c6ff-8cbbe855476f"
      },
      "source": [
        "# final linear equation\r\n",
        "# m stands for slope\r\n",
        "# c is the intercept\r\n",
        "m = regressor.coef_\r\n",
        "c = regressor.intercept_ \r\n",
        "print('y=', m ,'x + ' , c)"
      ],
      "execution_count": 36,
      "outputs": [
        {
          "output_type": "stream",
          "text": [
            "y= [9332.94473799] x +  25609.89799835482\n"
          ],
          "name": "stdout"
        }
      ]
    }
  ]
}