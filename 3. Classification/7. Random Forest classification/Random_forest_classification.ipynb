{
  "nbformat": 4,
  "nbformat_minor": 0,
  "metadata": {
    "colab": {
      "name": "Random_forest_classification.ipynb",
      "provenance": []
    },
    "kernelspec": {
      "name": "python3",
      "display_name": "Python 3"
    }
  },
  "cells": [
    {
      "cell_type": "code",
      "metadata": {
        "id": "lzBklqlhnK5d"
      },
      "source": [
        "import pandas as pd\r\n",
        "import numpy as np\r\n",
        "import matplotlib.pyplot as plt"
      ],
      "execution_count": 12,
      "outputs": []
    },
    {
      "cell_type": "code",
      "metadata": {
        "id": "KMidRqZHnSWm"
      },
      "source": [
        "dataset = pd.read_csv('Social_Network_Ads.csv')\r\n",
        "x = dataset.iloc[:,:-1].values\r\n",
        "y = dataset.iloc[:,-1].values"
      ],
      "execution_count": 13,
      "outputs": []
    },
    {
      "cell_type": "code",
      "metadata": {
        "id": "XZrxtZkPnYJi"
      },
      "source": [
        "from sklearn.model_selection import train_test_split\r\n",
        "x_train,x_test,y_train,y_test =  train_test_split(x,y,test_size=0.25,random_state=0)"
      ],
      "execution_count": 14,
      "outputs": []
    },
    {
      "cell_type": "code",
      "metadata": {
        "id": "KCf1IacDnaDY"
      },
      "source": [
        "# feature scaling\r\n",
        "from sklearn.preprocessing import StandardScaler\r\n",
        "sc= StandardScaler()\r\n",
        "x_train = sc.fit_transform(x_train)\r\n",
        "x_test = sc.transform(x_test)"
      ],
      "execution_count": 15,
      "outputs": []
    },
    {
      "cell_type": "code",
      "metadata": {
        "colab": {
          "base_uri": "https://localhost:8080/"
        },
        "id": "qUhMcEbuEHjM",
        "outputId": "7c2247c5-139e-4ae9-d740-e68f77e2fe19"
      },
      "source": [
        "# prediction\r\n",
        "print(classifier.predict(sc.transform([[30,87000]])))"
      ],
      "execution_count": 16,
      "outputs": [
        {
          "output_type": "stream",
          "text": [
            "[0]\n"
          ],
          "name": "stdout"
        }
      ]
    },
    {
      "cell_type": "code",
      "metadata": {
        "colab": {
          "base_uri": "https://localhost:8080/"
        },
        "id": "DpA8eiOvIhoq",
        "outputId": "c9ee274d-d4e0-456d-a3a4-45783cab9379"
      },
      "source": [
        "# model training\r\n",
        "from sklearn.ensemble import RandomForestClassifier\r\n",
        "classifier = RandomForestClassifier(random_state=0,n_estimators=10, criterion = 'entropy')\r\n",
        "classifier.fit(x_train,y_train)"
      ],
      "execution_count": 17,
      "outputs": [
        {
          "output_type": "execute_result",
          "data": {
            "text/plain": [
              "RandomForestClassifier(bootstrap=True, ccp_alpha=0.0, class_weight=None,\n",
              "                       criterion='entropy', max_depth=None, max_features='auto',\n",
              "                       max_leaf_nodes=None, max_samples=None,\n",
              "                       min_impurity_decrease=0.0, min_impurity_split=None,\n",
              "                       min_samples_leaf=1, min_samples_split=2,\n",
              "                       min_weight_fraction_leaf=0.0, n_estimators=10,\n",
              "                       n_jobs=None, oob_score=False, random_state=0, verbose=0,\n",
              "                       warm_start=False)"
            ]
          },
          "metadata": {
            "tags": []
          },
          "execution_count": 17
        }
      ]
    },
    {
      "cell_type": "code",
      "metadata": {
        "id": "G8eaH981EM54"
      },
      "source": [
        "# predicting test results\r\n",
        "y_pred = classifier.predict(x_test)\r\n",
        "# print(np.concatenate((y_test.reshape(len(y_test),1),y_pred.reshape(len(y_pred),1)),1))"
      ],
      "execution_count": 18,
      "outputs": []
    },
    {
      "cell_type": "code",
      "metadata": {
        "colab": {
          "base_uri": "https://localhost:8080/"
        },
        "id": "r8h0X_N0EhH1",
        "outputId": "78b43014-b097-46b7-a5c4-d69a73d32b1c"
      },
      "source": [
        "# confusion matrix\r\n",
        "from sklearn.metrics import confusion_matrix,accuracy_score\r\n",
        "cm = confusion_matrix(y_test,y_pred)\r\n",
        "print(cm)\r\n",
        "print(accuracy_score(y_test,y_pred))"
      ],
      "execution_count": 19,
      "outputs": [
        {
          "output_type": "stream",
          "text": [
            "[[63  5]\n",
            " [ 4 28]]\n",
            "0.91\n"
          ],
          "name": "stdout"
        }
      ]
    },
    {
      "cell_type": "code",
      "metadata": {
        "colab": {
          "base_uri": "https://localhost:8080/",
          "height": 349
        },
        "id": "0T4QAluqEmDT",
        "outputId": "825856f5-4da8-436b-e483-65996e54ddd8"
      },
      "source": [
        "# visualising training data\r\n",
        "# this code will not work for more than 2 features\r\n",
        "import matplotlib.pyplot as plt\r\n",
        "from matplotlib.colors import ListedColormap\r\n",
        "X_set, y_set = sc.inverse_transform(x_train), y_train\r\n",
        "X1, X2 = np.meshgrid(np.arange(start = X_set[:, 0].min() - 10, stop = X_set[:, 0].max() + 10, step = 0.25),\r\n",
        "                     np.arange(start = X_set[:, 1].min() - 1000, stop = X_set[:, 1].max() + 1000, step = 0.25))\r\n",
        "plt.contourf(X1, X2, classifier.predict(sc.transform(np.array([X1.ravel(), X2.ravel()]).T)).reshape(X1.shape),\r\n",
        "             alpha = 0.75, cmap = ListedColormap(('red', 'green')))\r\n",
        "plt.xlim(X1.min(), X1.max())\r\n",
        "plt.ylim(X2.min(), X2.max())\r\n",
        "for i, j in enumerate(np.unique(y_set)):\r\n",
        "    plt.scatter(X_set[y_set == j, 0], X_set[y_set == j, 1], c = ListedColormap(('red', 'green'))(i), label = j)\r\n",
        "plt.title('Decision tree (Training set)')\r\n",
        "plt.xlabel('Age')\r\n",
        "plt.ylabel('Estimated Salary')\r\n",
        "plt.legend()\r\n",
        "plt.show()"
      ],
      "execution_count": 20,
      "outputs": [
        {
          "output_type": "stream",
          "text": [
            "*c* argument looks like a single numeric RGB or RGBA sequence, which should be avoided as value-mapping will have precedence in case its length matches with *x* & *y*.  Please use the *color* keyword-argument or provide a 2-D array with a single row if you intend to specify the same RGB or RGBA value for all points.\n",
            "*c* argument looks like a single numeric RGB or RGBA sequence, which should be avoided as value-mapping will have precedence in case its length matches with *x* & *y*.  Please use the *color* keyword-argument or provide a 2-D array with a single row if you intend to specify the same RGB or RGBA value for all points.\n"
          ],
          "name": "stderr"
        },
        {
          "output_type": "display_data",
          "data": {
            "image/png": "[encoded data removed]",
            "text/plain": [
              "<Figure size 432x288 with 1 Axes>"
            ]
          },
          "metadata": {
            "tags": [],
            "needs_background": "light"
          }
        }
      ]
    }
  ]
}