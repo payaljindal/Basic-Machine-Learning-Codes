{
  "nbformat": 4,
  "nbformat_minor": 0,
  "metadata": {
    "colab": {
      "name": "Multiple regression.ipynb",
      "provenance": []
    },
    "kernelspec": {
      "name": "python3",
      "display_name": "Python 3"
    }
  },
  "cells": [
    {
      "cell_type": "code",
      "metadata": {
        "id": "psW7pGgrQ51m"
      },
      "source": [
        "import numpy as np\r\n",
        "import matplotlib.pyplot as plt\r\n",
        "import pandas as pd"
      ],
      "execution_count": 10,
      "outputs": []
    },
    {
      "cell_type": "code",
      "metadata": {
        "id": "4sj7_kEoJs85"
      },
      "source": [
        "dataset = pd.read_csv('50_Startups.csv')\r\n",
        "x = dataset.iloc[:,:-1].values\r\n",
        "y= dataset.iloc[:,-1].values\r\n",
        "# print(x)"
      ],
      "execution_count": 11,
      "outputs": []
    },
    {
      "cell_type": "code",
      "metadata": {
        "id": "dceY-FgyKI8S"
      },
      "source": [
        "# changing the categorical data into numeric values\r\n",
        "from sklearn.compose import ColumnTransformer\r\n",
        "from sklearn.preprocessing import OneHotEncoder\r\n",
        "ct = ColumnTransformer(transformers=[('encoder',OneHotEncoder(),[3])] , remainder='passthrough')\r\n",
        "x = np.array(ct.fit_transform(x))\r\n",
        "# print(x)"
      ],
      "execution_count": 12,
      "outputs": []
    },
    {
      "cell_type": "code",
      "metadata": {
        "id": "afUmFxDcLt2Z"
      },
      "source": [
        "from sklearn.model_selection import train_test_split\r\n",
        "x_train, x_test, y_train,y_test = train_test_split(x,y,test_size=0.2,random_state =0)\r\n"
      ],
      "execution_count": 18,
      "outputs": []
    },
    {
      "cell_type": "code",
      "metadata": {
        "colab": {
          "base_uri": "https://localhost:8080/"
        },
        "id": "_Rt11wfhMmDt",
        "outputId": "244ff95f-e20a-4397-fc68-c5a93a70b849"
      },
      "source": [
        "# training model\r\n",
        "from sklearn.linear_model import LinearRegression\r\n",
        "regressor = LinearRegression()\r\n",
        "regressor.fit(x_train,y_train)"
      ],
      "execution_count": 19,
      "outputs": [
        {
          "output_type": "execute_result",
          "data": {
            "text/plain": [
              "LinearRegression(copy_X=True, fit_intercept=True, n_jobs=None, normalize=False)"
            ]
          },
          "metadata": {
            "tags": []
          },
          "execution_count": 19
        }
      ]
    },
    {
      "cell_type": "code",
      "metadata": {
        "colab": {
          "base_uri": "https://localhost:8080/"
        },
        "id": "7BwC2JSDi7JJ",
        "outputId": "ed767588-20fb-468f-f1e7-91cb760e2f52"
      },
      "source": [
        "# comparison between predicted and real values\r\n",
        "y_pred = regressor.predict(x_test)\r\n",
        "np.set_printoptions(precision=2) #to avoid long decimal numbers\r\n",
        "print(np.concatenate((y_pred.reshape(len(y_pred),1),y_test.reshape(len(y_test),1)),1))"
      ],
      "execution_count": 20,
      "outputs": [
        {
          "output_type": "stream",
          "text": [
            "[[103015.2  103282.38]\n",
            " [132582.28 144259.4 ]\n",
            " [132447.74 146121.95]\n",
            " [ 71976.1   77798.83]\n",
            " [178537.48 191050.39]\n",
            " [116161.24 105008.31]\n",
            " [ 67851.69  81229.06]\n",
            " [ 98791.73  97483.56]\n",
            " [113969.44 110352.25]\n",
            " [167921.07 166187.94]]\n"
          ],
          "name": "stdout"
        }
      ]
    },
    {
      "cell_type": "code",
      "metadata": {
        "colab": {
          "base_uri": "https://localhost:8080/"
        },
        "id": "1yafjXUQnekF",
        "outputId": "05fd7ac9-c9f8-46ef-db09-0fa292b3e2e3"
      },
      "source": [
        "# prediction\r\n",
        "# predict expects a 2D array\r\n",
        "value = regressor.predict([[1,0,0,15000,30000,20000]])\r\n",
        "print(value)"
      ],
      "execution_count": 22,
      "outputs": [
        {
          "output_type": "stream",
          "text": [
            "[55874.91]\n"
          ],
          "name": "stdout"
        }
      ]
    },
    {
      "cell_type": "code",
      "metadata": {
        "colab": {
          "base_uri": "https://localhost:8080/"
        },
        "id": "yuQj0QPKpjDA",
        "outputId": "32de3862-b549-4a7c-c591-7d70836c382a"
      },
      "source": [
        "# to get the equation\r\n",
        "print(regressor.intercept_)\r\n",
        "print(regressor.coef_)"
      ],
      "execution_count": 25,
      "outputs": [
        {
          "output_type": "stream",
          "text": [
            "42467.52924853204\n",
            "[ 8.66e+01 -8.73e+02  7.86e+02  7.73e-01  3.29e-02  3.66e-02]\n"
          ],
          "name": "stdout"
        }
      ]
    },
    {
      "cell_type": "markdown",
      "metadata": {
        "id": "XlH_s4agqRyB"
      },
      "source": [
        "So,\r\n",
        "\r\n",
        "Profit=86.6×Dummy State1 −873×Dummy State 2 +786×Dummy State 3  −0.773×R&D Spend  +0.0329×Administration  +0.0366×Marketing Spend  +42467.53"
      ]
    }
  ]
}