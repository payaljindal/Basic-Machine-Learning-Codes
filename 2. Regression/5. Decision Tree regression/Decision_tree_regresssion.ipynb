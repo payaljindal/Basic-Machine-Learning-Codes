{
  "nbformat": 4,
  "nbformat_minor": 0,
  "metadata": {
    "colab": {
      "name": "Decision_tree_regresssion.ipynb",
      "provenance": []
    },
    "kernelspec": {
      "name": "python3",
      "display_name": "Python 3"
    }
  },
  "cells": [
    {
      "cell_type": "code",
      "metadata": {
        "id": "MM1nT0alwt33"
      },
      "source": [
        "import numpy as np\r\n",
        "import matplotlib.pyplot as plt\r\n",
        "import pandas as pd"
      ],
      "execution_count": 1,
      "outputs": []
    },
    {
      "cell_type": "code",
      "metadata": {
        "id": "gkSNlSNUOdp-"
      },
      "source": [
        "dataset = pd.read_csv('Position_Salaries.csv')\r\n",
        "x = dataset.iloc[:,1:-1].values\r\n",
        "y = dataset.iloc[:,-1].values"
      ],
      "execution_count": 2,
      "outputs": []
    },
    {
      "cell_type": "code",
      "metadata": {
        "colab": {
          "base_uri": "https://localhost:8080/"
        },
        "id": "M6pzSMiTOmcD",
        "outputId": "7c05d89f-8be4-4005-aa0c-cc3ff937c3d1"
      },
      "source": [
        "# training model\r\n",
        "from sklearn.tree import DecisionTreeRegressor\r\n",
        "regressor = DecisionTreeRegressor(random_state=0)\r\n",
        "regressor.fit(x,y)"
      ],
      "execution_count": 3,
      "outputs": [
        {
          "output_type": "execute_result",
          "data": {
            "text/plain": [
              "DecisionTreeRegressor(ccp_alpha=0.0, criterion='mse', max_depth=None,\n",
              "                      max_features=None, max_leaf_nodes=None,\n",
              "                      min_impurity_decrease=0.0, min_impurity_split=None,\n",
              "                      min_samples_leaf=1, min_samples_split=2,\n",
              "                      min_weight_fraction_leaf=0.0, presort='deprecated',\n",
              "                      random_state=0, splitter='best')"
            ]
          },
          "metadata": {
            "tags": []
          },
          "execution_count": 3
        }
      ]
    },
    {
      "cell_type": "code",
      "metadata": {
        "colab": {
          "base_uri": "https://localhost:8080/"
        },
        "id": "woaL5P9pWcxL",
        "outputId": "1a8f2dd2-a0f6-4b3f-fff7-eb4ca802595e"
      },
      "source": [
        "# prediction\r\n",
        "regressor.predict([[6.5]])"
      ],
      "execution_count": 4,
      "outputs": [
        {
          "output_type": "execute_result",
          "data": {
            "text/plain": [
              "array([150000.])"
            ]
          },
          "metadata": {
            "tags": []
          },
          "execution_count": 4
        }
      ]
    },
    {
      "cell_type": "code",
      "metadata": {
        "colab": {
          "base_uri": "https://localhost:8080/",
          "height": 295
        },
        "id": "BUGJ3QvFkUI8",
        "outputId": "c628600b-8783-4d9f-e7d7-b2c8e0f5aec5"
      },
      "source": [
        "#Visualisation low resolution\r\n",
        "# not acceptable\r\n",
        "plt.scatter(x,y,color='magenta')\r\n",
        "plt.plot(x,regressor.predict(x),color='blue')\r\n",
        "plt.title('Decision tree Regression model')\r\n",
        "plt.xlabel('Level')\r\n",
        "plt.ylabel('Salary')\r\n",
        "plt.show()"
      ],
      "execution_count": 10,
      "outputs": [
        {
          "output_type": "display_data",
          "data": {
            "image/png": "[encoded data removed]",
            "text/plain": [
              "<Figure size 432x288 with 1 Axes>"
            ]
          },
          "metadata": {
            "tags": [],
            "needs_background": "light"
          }
        }
      ]
    },
    {
      "cell_type": "code",
      "metadata": {
        "colab": {
          "base_uri": "https://localhost:8080/",
          "height": 295
        },
        "id": "z1Eg-szkiirY",
        "outputId": "c3b77a6a-299c-4f69-c418-c338bb9fe2eb"
      },
      "source": [
        "# visualisation high resolution\r\n",
        "x_grid = np.arange(min(x),max(x),0.1)\r\n",
        "x_grid = x_grid.reshape(len(x_grid),1)\r\n",
        "\r\n",
        "plt.scatter(x,y,color='magenta')\r\n",
        "plt.plot(x_grid,regressor.predict(x_grid),color='blue')\r\n",
        "plt.title('Decision tree Regression model')\r\n",
        "plt.xlabel('Level')\r\n",
        "plt.ylabel('Salary')\r\n",
        "plt.show()"
      ],
      "execution_count": 9,
      "outputs": [
        {
          "output_type": "display_data",
          "data": {
            "image/png": "[encoded data removed]",
            "text/plain": [
              "<Figure size 432x288 with 1 Axes>"
            ]
          },
          "metadata": {
            "tags": [],
            "needs_background": "light"
          }
        }
      ]
    }
  ]
}